{
 "cells": [
  {
   "cell_type": "markdown",
   "id": "d24131f7",
   "metadata": {},
   "source": [
    "# Importing Libraries"
   ]
  },
  {
   "cell_type": "code",
   "execution_count": 60,
   "id": "07f6883c",
   "metadata": {},
   "outputs": [],
   "source": [
    "import pandas as pd\n",
    "import numpy as np\n",
    "import matplotlib.pyplot as plt\n",
    "from sklearn.preprocessing import StandardScaler, MinMaxScaler\n",
    "from sklearn.metrics import mean_absolute_error\n",
    "from keras.layers import Dense, LSTM, Dropout\n",
    "from keras.models import Sequential\n"
   ]
  },
  {
   "cell_type": "markdown",
   "id": "2fda1020",
   "metadata": {},
   "source": [
    "# Reading in Training data"
   ]
  },
  {
   "cell_type": "code",
   "execution_count": 4,
   "id": "0db2a07a",
   "metadata": {},
   "outputs": [],
   "source": [
    "data = pd.read_csv(\"C:\\\\Users\\\\user\\\\Downloads\\\\HistoricalData_1656782463992.csv\")"
   ]
  },
  {
   "cell_type": "markdown",
   "id": "1c9c0bfa",
   "metadata": {},
   "source": [
    "The columns Open and Close represent the starting and final price at which the stock is traded on a particular day. High, Low and Last represent the maximum, minimum, and last price of the share for the day."
   ]
  },
  {
   "cell_type": "code",
   "execution_count": 5,
   "id": "1868b9f1",
   "metadata": {},
   "outputs": [
    {
     "data": {
      "text/html": [
       "<div>\n",
       "<style scoped>\n",
       "    .dataframe tbody tr th:only-of-type {\n",
       "        vertical-align: middle;\n",
       "    }\n",
       "\n",
       "    .dataframe tbody tr th {\n",
       "        vertical-align: top;\n",
       "    }\n",
       "\n",
       "    .dataframe thead th {\n",
       "        text-align: right;\n",
       "    }\n",
       "</style>\n",
       "<table border=\"1\" class=\"dataframe\">\n",
       "  <thead>\n",
       "    <tr style=\"text-align: right;\">\n",
       "      <th></th>\n",
       "      <th>Date</th>\n",
       "      <th>Close/Last</th>\n",
       "      <th>Volume</th>\n",
       "      <th>Open</th>\n",
       "      <th>High</th>\n",
       "      <th>Low</th>\n",
       "    </tr>\n",
       "  </thead>\n",
       "  <tbody>\n",
       "    <tr>\n",
       "      <th>0</th>\n",
       "      <td>07/01/2022</td>\n",
       "      <td>$138.93</td>\n",
       "      <td>71051550</td>\n",
       "      <td>$136.04</td>\n",
       "      <td>$139.04</td>\n",
       "      <td>$135.66</td>\n",
       "    </tr>\n",
       "    <tr>\n",
       "      <th>1</th>\n",
       "      <td>06/30/2022</td>\n",
       "      <td>$136.72</td>\n",
       "      <td>98964470</td>\n",
       "      <td>$137.25</td>\n",
       "      <td>$138.37</td>\n",
       "      <td>$133.7737</td>\n",
       "    </tr>\n",
       "    <tr>\n",
       "      <th>2</th>\n",
       "      <td>06/29/2022</td>\n",
       "      <td>$139.23</td>\n",
       "      <td>66242410</td>\n",
       "      <td>$137.46</td>\n",
       "      <td>$140.67</td>\n",
       "      <td>$136.67</td>\n",
       "    </tr>\n",
       "    <tr>\n",
       "      <th>3</th>\n",
       "      <td>06/28/2022</td>\n",
       "      <td>$137.44</td>\n",
       "      <td>67315330</td>\n",
       "      <td>$142.13</td>\n",
       "      <td>$143.422</td>\n",
       "      <td>$137.325</td>\n",
       "    </tr>\n",
       "    <tr>\n",
       "      <th>4</th>\n",
       "      <td>06/27/2022</td>\n",
       "      <td>$141.66</td>\n",
       "      <td>70207910</td>\n",
       "      <td>$142.695</td>\n",
       "      <td>$143.49</td>\n",
       "      <td>$140.965</td>\n",
       "    </tr>\n",
       "  </tbody>\n",
       "</table>\n",
       "</div>"
      ],
      "text/plain": [
       "         Date Close/Last    Volume      Open      High        Low\n",
       "0  07/01/2022    $138.93  71051550   $136.04   $139.04    $135.66\n",
       "1  06/30/2022    $136.72  98964470   $137.25   $138.37  $133.7737\n",
       "2  06/29/2022    $139.23  66242410   $137.46   $140.67    $136.67\n",
       "3  06/28/2022    $137.44  67315330   $142.13  $143.422   $137.325\n",
       "4  06/27/2022    $141.66  70207910  $142.695   $143.49   $140.965"
      ]
     },
     "execution_count": 5,
     "metadata": {},
     "output_type": "execute_result"
    }
   ],
   "source": [
    "data.head()"
   ]
  },
  {
   "cell_type": "markdown",
   "id": "e9ca2a61",
   "metadata": {},
   "source": [
    "# Data Analysis and Pre-Processing"
   ]
  },
  {
   "cell_type": "code",
   "execution_count": 6,
   "id": "3a3d8b24",
   "metadata": {},
   "outputs": [
    {
     "data": {
      "text/plain": [
       "Index(['Date', 'Close/Last', 'Volume', 'Open', 'High', 'Low'], dtype='object')"
      ]
     },
     "execution_count": 6,
     "metadata": {},
     "output_type": "execute_result"
    }
   ],
   "source": [
    "#columns have white spaces, which have to be removed\n",
    "data.columns"
   ]
  },
  {
   "cell_type": "code",
   "execution_count": 8,
   "id": "040f6e64",
   "metadata": {},
   "outputs": [
    {
     "data": {
      "text/plain": [
       "'$21.6818'"
      ]
     },
     "execution_count": 8,
     "metadata": {},
     "output_type": "execute_result"
    }
   ],
   "source": [
    "#all the entries are in string format\n",
    "data['Open'][2513]"
   ]
  },
  {
   "cell_type": "code",
   "execution_count": 12,
   "id": "7ccaae35",
   "metadata": {},
   "outputs": [
    {
     "name": "stderr",
     "output_type": "stream",
     "text": [
      "<ipython-input-12-e8a3fa2d7b7e>:4: SettingWithCopyWarning: \n",
      "A value is trying to be set on a copy of a slice from a DataFrame\n",
      "\n",
      "See the caveats in the documentation: https://pandas.pydata.org/pandas-docs/stable/user_guide/indexing.html#returning-a-view-versus-a-copy\n",
      "  data[i][j] = str(data[i][j]).replace(' ','')\n",
      "<ipython-input-12-e8a3fa2d7b7e>:5: SettingWithCopyWarning: \n",
      "A value is trying to be set on a copy of a slice from a DataFrame\n",
      "\n",
      "See the caveats in the documentation: https://pandas.pydata.org/pandas-docs/stable/user_guide/indexing.html#returning-a-view-versus-a-copy\n",
      "  data[i][j] = str(data[i][j]).replace('$','')\n"
     ]
    }
   ],
   "source": [
    "for i in data.columns:\n",
    "  if i!='Date':\n",
    "    for j in range(0,2517):\n",
    "      data[i][j] = str(data[i][j]).replace(' ','')\n",
    "      data[i][j] = str(data[i][j]).replace('$','')\n"
   ]
  },
  {
   "cell_type": "code",
   "execution_count": 13,
   "id": "30072621",
   "metadata": {},
   "outputs": [],
   "source": [
    "for i in data.columns:\n",
    "  if i!='Date':\n",
    "      data[i] = data[i].astype(float)"
   ]
  },
  {
   "cell_type": "code",
   "execution_count": 14,
   "id": "ae9a6715",
   "metadata": {},
   "outputs": [
    {
     "data": {
      "text/html": [
       "<div>\n",
       "<style scoped>\n",
       "    .dataframe tbody tr th:only-of-type {\n",
       "        vertical-align: middle;\n",
       "    }\n",
       "\n",
       "    .dataframe tbody tr th {\n",
       "        vertical-align: top;\n",
       "    }\n",
       "\n",
       "    .dataframe thead th {\n",
       "        text-align: right;\n",
       "    }\n",
       "</style>\n",
       "<table border=\"1\" class=\"dataframe\">\n",
       "  <thead>\n",
       "    <tr style=\"text-align: right;\">\n",
       "      <th></th>\n",
       "      <th>Date</th>\n",
       "      <th>Close/Last</th>\n",
       "      <th>Volume</th>\n",
       "      <th>Open</th>\n",
       "      <th>High</th>\n",
       "      <th>Low</th>\n",
       "    </tr>\n",
       "  </thead>\n",
       "  <tbody>\n",
       "    <tr>\n",
       "      <th>0</th>\n",
       "      <td>07/01/2022</td>\n",
       "      <td>138.9300</td>\n",
       "      <td>71051550.0</td>\n",
       "      <td>136.0400</td>\n",
       "      <td>139.0400</td>\n",
       "      <td>135.6600</td>\n",
       "    </tr>\n",
       "    <tr>\n",
       "      <th>1</th>\n",
       "      <td>06/30/2022</td>\n",
       "      <td>136.7200</td>\n",
       "      <td>98964470.0</td>\n",
       "      <td>137.2500</td>\n",
       "      <td>138.3700</td>\n",
       "      <td>133.7737</td>\n",
       "    </tr>\n",
       "    <tr>\n",
       "      <th>2</th>\n",
       "      <td>06/29/2022</td>\n",
       "      <td>139.2300</td>\n",
       "      <td>66242410.0</td>\n",
       "      <td>137.4600</td>\n",
       "      <td>140.6700</td>\n",
       "      <td>136.6700</td>\n",
       "    </tr>\n",
       "    <tr>\n",
       "      <th>3</th>\n",
       "      <td>06/28/2022</td>\n",
       "      <td>137.4400</td>\n",
       "      <td>67315330.0</td>\n",
       "      <td>142.1300</td>\n",
       "      <td>143.4220</td>\n",
       "      <td>137.3250</td>\n",
       "    </tr>\n",
       "    <tr>\n",
       "      <th>4</th>\n",
       "      <td>06/27/2022</td>\n",
       "      <td>141.6600</td>\n",
       "      <td>70207910.0</td>\n",
       "      <td>142.6950</td>\n",
       "      <td>143.4900</td>\n",
       "      <td>140.9650</td>\n",
       "    </tr>\n",
       "    <tr>\n",
       "      <th>...</th>\n",
       "      <td>...</td>\n",
       "      <td>...</td>\n",
       "      <td>...</td>\n",
       "      <td>...</td>\n",
       "      <td>...</td>\n",
       "      <td>...</td>\n",
       "    </tr>\n",
       "    <tr>\n",
       "      <th>2512</th>\n",
       "      <td>07/09/2012</td>\n",
       "      <td>21.9247</td>\n",
       "      <td>378806808.0</td>\n",
       "      <td>21.6179</td>\n",
       "      <td>21.9250</td>\n",
       "      <td>21.5754</td>\n",
       "    </tr>\n",
       "    <tr>\n",
       "      <th>2513</th>\n",
       "      <td>07/06/2012</td>\n",
       "      <td>21.6386</td>\n",
       "      <td>418772312.0</td>\n",
       "      <td>21.6818</td>\n",
       "      <td>21.7300</td>\n",
       "      <td>21.4850</td>\n",
       "    </tr>\n",
       "    <tr>\n",
       "      <th>2514</th>\n",
       "      <td>07/05/2012</td>\n",
       "      <td>21.7836</td>\n",
       "      <td>483913726.0</td>\n",
       "      <td>21.4486</td>\n",
       "      <td>21.9407</td>\n",
       "      <td>21.4161</td>\n",
       "    </tr>\n",
       "    <tr>\n",
       "      <th>2515</th>\n",
       "      <td>07/03/2012</td>\n",
       "      <td>21.4075</td>\n",
       "      <td>241712563.0</td>\n",
       "      <td>21.2457</td>\n",
       "      <td>21.4286</td>\n",
       "      <td>21.2143</td>\n",
       "    </tr>\n",
       "    <tr>\n",
       "      <th>2516</th>\n",
       "      <td>07/02/2012</td>\n",
       "      <td>21.1614</td>\n",
       "      <td>399227480.0</td>\n",
       "      <td>20.8832</td>\n",
       "      <td>21.1954</td>\n",
       "      <td>20.8429</td>\n",
       "    </tr>\n",
       "  </tbody>\n",
       "</table>\n",
       "<p>2517 rows × 6 columns</p>\n",
       "</div>"
      ],
      "text/plain": [
       "            Date  Close/Last       Volume      Open      High       Low\n",
       "0     07/01/2022    138.9300   71051550.0  136.0400  139.0400  135.6600\n",
       "1     06/30/2022    136.7200   98964470.0  137.2500  138.3700  133.7737\n",
       "2     06/29/2022    139.2300   66242410.0  137.4600  140.6700  136.6700\n",
       "3     06/28/2022    137.4400   67315330.0  142.1300  143.4220  137.3250\n",
       "4     06/27/2022    141.6600   70207910.0  142.6950  143.4900  140.9650\n",
       "...          ...         ...          ...       ...       ...       ...\n",
       "2512  07/09/2012     21.9247  378806808.0   21.6179   21.9250   21.5754\n",
       "2513  07/06/2012     21.6386  418772312.0   21.6818   21.7300   21.4850\n",
       "2514  07/05/2012     21.7836  483913726.0   21.4486   21.9407   21.4161\n",
       "2515  07/03/2012     21.4075  241712563.0   21.2457   21.4286   21.2143\n",
       "2516  07/02/2012     21.1614  399227480.0   20.8832   21.1954   20.8429\n",
       "\n",
       "[2517 rows x 6 columns]"
      ]
     },
     "execution_count": 14,
     "metadata": {},
     "output_type": "execute_result"
    }
   ],
   "source": [
    "data\n"
   ]
  },
  {
   "cell_type": "code",
   "execution_count": 15,
   "id": "404b6075",
   "metadata": {},
   "outputs": [],
   "source": [
    "data.Date = pd.to_datetime(data.Date)\n",
    "data.sort_values('Date', ascending = True, inplace=True)"
   ]
  },
  {
   "cell_type": "code",
   "execution_count": 16,
   "id": "bf3215cf",
   "metadata": {},
   "outputs": [
    {
     "data": {
      "text/html": [
       "<div>\n",
       "<style scoped>\n",
       "    .dataframe tbody tr th:only-of-type {\n",
       "        vertical-align: middle;\n",
       "    }\n",
       "\n",
       "    .dataframe tbody tr th {\n",
       "        vertical-align: top;\n",
       "    }\n",
       "\n",
       "    .dataframe thead th {\n",
       "        text-align: right;\n",
       "    }\n",
       "</style>\n",
       "<table border=\"1\" class=\"dataframe\">\n",
       "  <thead>\n",
       "    <tr style=\"text-align: right;\">\n",
       "      <th></th>\n",
       "      <th>Date</th>\n",
       "      <th>Close/Last</th>\n",
       "      <th>Volume</th>\n",
       "      <th>Open</th>\n",
       "      <th>High</th>\n",
       "      <th>Low</th>\n",
       "    </tr>\n",
       "  </thead>\n",
       "  <tbody>\n",
       "    <tr>\n",
       "      <th>2516</th>\n",
       "      <td>2012-07-02</td>\n",
       "      <td>21.1614</td>\n",
       "      <td>399227480.0</td>\n",
       "      <td>20.8832</td>\n",
       "      <td>21.1954</td>\n",
       "      <td>20.8429</td>\n",
       "    </tr>\n",
       "    <tr>\n",
       "      <th>2515</th>\n",
       "      <td>2012-07-03</td>\n",
       "      <td>21.4075</td>\n",
       "      <td>241712563.0</td>\n",
       "      <td>21.2457</td>\n",
       "      <td>21.4286</td>\n",
       "      <td>21.2143</td>\n",
       "    </tr>\n",
       "    <tr>\n",
       "      <th>2514</th>\n",
       "      <td>2012-07-05</td>\n",
       "      <td>21.7836</td>\n",
       "      <td>483913726.0</td>\n",
       "      <td>21.4486</td>\n",
       "      <td>21.9407</td>\n",
       "      <td>21.4161</td>\n",
       "    </tr>\n",
       "    <tr>\n",
       "      <th>2513</th>\n",
       "      <td>2012-07-06</td>\n",
       "      <td>21.6386</td>\n",
       "      <td>418772312.0</td>\n",
       "      <td>21.6818</td>\n",
       "      <td>21.7300</td>\n",
       "      <td>21.4850</td>\n",
       "    </tr>\n",
       "    <tr>\n",
       "      <th>2512</th>\n",
       "      <td>2012-07-09</td>\n",
       "      <td>21.9247</td>\n",
       "      <td>378806808.0</td>\n",
       "      <td>21.6179</td>\n",
       "      <td>21.9250</td>\n",
       "      <td>21.5754</td>\n",
       "    </tr>\n",
       "    <tr>\n",
       "      <th>...</th>\n",
       "      <td>...</td>\n",
       "      <td>...</td>\n",
       "      <td>...</td>\n",
       "      <td>...</td>\n",
       "      <td>...</td>\n",
       "      <td>...</td>\n",
       "    </tr>\n",
       "    <tr>\n",
       "      <th>4</th>\n",
       "      <td>2022-06-27</td>\n",
       "      <td>141.6600</td>\n",
       "      <td>70207910.0</td>\n",
       "      <td>142.6950</td>\n",
       "      <td>143.4900</td>\n",
       "      <td>140.9650</td>\n",
       "    </tr>\n",
       "    <tr>\n",
       "      <th>3</th>\n",
       "      <td>2022-06-28</td>\n",
       "      <td>137.4400</td>\n",
       "      <td>67315330.0</td>\n",
       "      <td>142.1300</td>\n",
       "      <td>143.4220</td>\n",
       "      <td>137.3250</td>\n",
       "    </tr>\n",
       "    <tr>\n",
       "      <th>2</th>\n",
       "      <td>2022-06-29</td>\n",
       "      <td>139.2300</td>\n",
       "      <td>66242410.0</td>\n",
       "      <td>137.4600</td>\n",
       "      <td>140.6700</td>\n",
       "      <td>136.6700</td>\n",
       "    </tr>\n",
       "    <tr>\n",
       "      <th>1</th>\n",
       "      <td>2022-06-30</td>\n",
       "      <td>136.7200</td>\n",
       "      <td>98964470.0</td>\n",
       "      <td>137.2500</td>\n",
       "      <td>138.3700</td>\n",
       "      <td>133.7737</td>\n",
       "    </tr>\n",
       "    <tr>\n",
       "      <th>0</th>\n",
       "      <td>2022-07-01</td>\n",
       "      <td>138.9300</td>\n",
       "      <td>71051550.0</td>\n",
       "      <td>136.0400</td>\n",
       "      <td>139.0400</td>\n",
       "      <td>135.6600</td>\n",
       "    </tr>\n",
       "  </tbody>\n",
       "</table>\n",
       "<p>2517 rows × 6 columns</p>\n",
       "</div>"
      ],
      "text/plain": [
       "           Date  Close/Last       Volume      Open      High       Low\n",
       "2516 2012-07-02     21.1614  399227480.0   20.8832   21.1954   20.8429\n",
       "2515 2012-07-03     21.4075  241712563.0   21.2457   21.4286   21.2143\n",
       "2514 2012-07-05     21.7836  483913726.0   21.4486   21.9407   21.4161\n",
       "2513 2012-07-06     21.6386  418772312.0   21.6818   21.7300   21.4850\n",
       "2512 2012-07-09     21.9247  378806808.0   21.6179   21.9250   21.5754\n",
       "...         ...         ...          ...       ...       ...       ...\n",
       "4    2022-06-27    141.6600   70207910.0  142.6950  143.4900  140.9650\n",
       "3    2022-06-28    137.4400   67315330.0  142.1300  143.4220  137.3250\n",
       "2    2022-06-29    139.2300   66242410.0  137.4600  140.6700  136.6700\n",
       "1    2022-06-30    136.7200   98964470.0  137.2500  138.3700  133.7737\n",
       "0    2022-07-01    138.9300   71051550.0  136.0400  139.0400  135.6600\n",
       "\n",
       "[2517 rows x 6 columns]"
      ]
     },
     "execution_count": 16,
     "metadata": {},
     "output_type": "execute_result"
    }
   ],
   "source": [
    "data"
   ]
  },
  {
   "cell_type": "code",
   "execution_count": 17,
   "id": "d60573ad",
   "metadata": {},
   "outputs": [
    {
     "data": {
      "image/png": "[encoded data removed]",
      "text/plain": [
       "<Figure size 432x288 with 1 Axes>"
      ]
     },
     "metadata": {
      "needs_background": "light"
     },
     "output_type": "display_data"
    },
    {
     "data": {
      "text/plain": [
       "<Figure size 432x288 with 0 Axes>"
      ]
     },
     "metadata": {},
     "output_type": "display_data"
    }
   ],
   "source": [
    "from matplotlib import pyplot as plt\n",
    "plt.figure()\n",
    "plt.plot(data['Date'],data[\"Open\"])\n",
    "plt.plot(data['Date'],data[\"High\"])\n",
    "plt.plot(data['Date'],data[\"Low\"])\n",
    "plt.plot(data['Date'],data[\"Close/Last\"])\n",
    "plt.title('Apple stock price history')\n",
    "plt.ylabel('Price (USD)')\n",
    "plt.xlabel('Years')\n",
    "plt.legend(['Open','High','Low','Close'], loc='upper right')\n",
    "plt.show()\n",
    "plt.savefig('Apple stock price history')"
   ]
  },
  {
   "cell_type": "markdown",
   "id": "c227c851",
   "metadata": {},
   "source": [
    "The profit or loss calculation is usually determined by the closing price of a stock for the day, hence the closing price will be considered as the target variable."
   ]
  },
  {
   "cell_type": "code",
   "execution_count": 18,
   "id": "a4cf2a47",
   "metadata": {},
   "outputs": [
    {
     "data": {
      "image/png": "[encoded data removed]",
      "text/plain": [
       "<Figure size 432x288 with 1 Axes>"
      ]
     },
     "metadata": {
      "needs_background": "light"
     },
     "output_type": "display_data"
    },
    {
     "data": {
      "text/plain": [
       "<Figure size 432x288 with 0 Axes>"
      ]
     },
     "metadata": {},
     "output_type": "display_data"
    }
   ],
   "source": [
    "plt.figure()\n",
    "plt.plot(data[\"Date\"],data[\"Volume\"])\n",
    "plt.title('Apple stock volume history')\n",
    "plt.ylabel('Volume')\n",
    "plt.xlabel('Years')\n",
    "plt.show()\n",
    "plt.savefig(\"Apple stock volume history\")"
   ]
  },
  {
   "cell_type": "code",
   "execution_count": 19,
   "id": "fbfd59f0",
   "metadata": {},
   "outputs": [
    {
     "data": {
      "text/plain": [
       "Date          0\n",
       "Close/Last    0\n",
       "Volume        0\n",
       "Open          0\n",
       "High          0\n",
       "Low           0\n",
       "dtype: int64"
      ]
     },
     "execution_count": 19,
     "metadata": {},
     "output_type": "execute_result"
    }
   ],
   "source": [
    "#check whether null values present\n",
    "data.isna().sum()"
   ]
  },
  {
   "cell_type": "markdown",
   "id": "a71482a7",
   "metadata": {},
   "source": [
    "# Creating the training and test data"
   ]
  },
  {
   "cell_type": "code",
   "execution_count": 62,
   "id": "3e5c273e",
   "metadata": {},
   "outputs": [],
   "source": [
    "df = data['Close/Last']\n",
    "#df.set_index('Date', inplace=True)\n"
   ]
  },
  {
   "cell_type": "code",
   "execution_count": 63,
   "id": "077ef740",
   "metadata": {},
   "outputs": [
    {
     "data": {
      "text/plain": [
       "2516     21.1614\n",
       "2515     21.4075\n",
       "2514     21.7836\n",
       "2513     21.6386\n",
       "2512     21.9247\n",
       "          ...   \n",
       "4       141.6600\n",
       "3       137.4400\n",
       "2       139.2300\n",
       "1       136.7200\n",
       "0       138.9300\n",
       "Name: Close/Last, Length: 2517, dtype: float64"
      ]
     },
     "execution_count": 63,
     "metadata": {},
     "output_type": "execute_result"
    }
   ],
   "source": [
    "df"
   ]
  },
  {
   "cell_type": "code",
   "execution_count": 64,
   "id": "e96b63dc",
   "metadata": {},
   "outputs": [],
   "source": [
    "#normalizing the values for better predictions\n",
    "scaler = MinMaxScaler(feature_range=(0,1))"
   ]
  },
  {
   "cell_type": "code",
   "execution_count": 65,
   "id": "bd7f10d3",
   "metadata": {},
   "outputs": [],
   "source": [
    "# reshape the data before calling scaler.fit_transform because it works only on np arrays\n",
    "df = scaler.fit_transform(np.array(df).reshape(-1,1))"
   ]
  },
  {
   "cell_type": "code",
   "execution_count": 66,
   "id": "f21c62e4",
   "metadata": {},
   "outputs": [
    {
     "data": {
      "text/plain": [
       "array([[0.04292391],\n",
       "       [0.04438825],\n",
       "       [0.04662611],\n",
       "       ...,\n",
       "       [0.74545184],\n",
       "       [0.73051692],\n",
       "       [0.74366679]])"
      ]
     },
     "execution_count": 66,
     "metadata": {},
     "output_type": "execute_result"
    }
   ],
   "source": [
    "df\n"
   ]
  },
  {
   "cell_type": "code",
   "execution_count": 67,
   "id": "ed22f293",
   "metadata": {},
   "outputs": [],
   "source": [
    "training_size = int(0.7*df.shape[0])\n",
    "test_size = df.shape[0] - training_size\n",
    "train_data = df[:training_size, :]\n",
    "test_data = df[training_size:, :]"
   ]
  },
  {
   "cell_type": "code",
   "execution_count": 68,
   "id": "93d5a170",
   "metadata": {},
   "outputs": [
    {
     "data": {
      "text/plain": [
       "(2517, 1)"
      ]
     },
     "execution_count": 68,
     "metadata": {},
     "output_type": "execute_result"
    }
   ],
   "source": [
    "df.shape"
   ]
  },
  {
   "cell_type": "code",
   "execution_count": 69,
   "id": "730e8530",
   "metadata": {},
   "outputs": [
    {
     "data": {
      "text/plain": [
       "(756, 1)"
      ]
     },
     "execution_count": 69,
     "metadata": {},
     "output_type": "execute_result"
    }
   ],
   "source": [
    "test_data.shape"
   ]
  },
  {
   "cell_type": "code",
   "execution_count": 70,
   "id": "1e243950",
   "metadata": {},
   "outputs": [
    {
     "data": {
      "text/plain": [
       "(1761, 1)"
      ]
     },
     "execution_count": 70,
     "metadata": {},
     "output_type": "execute_result"
    }
   ],
   "source": [
    "train_data.shape"
   ]
  },
  {
   "cell_type": "markdown",
   "id": "34f00ffa",
   "metadata": {},
   "source": [
    "# Sliding Window Approach for the Training and Test Datasets"
   ]
  },
  {
   "attachments": {
    "download.png": {
     "image/png": "[encoded data removed]"
    }
   },
   "cell_type": "markdown",
   "id": "fc479ee7",
   "metadata": {},
   "source": [
    "![download.png](attachment:download.png)"
   ]
  },
  {
   "cell_type": "markdown",
   "id": "af268b33",
   "metadata": {},
   "source": [
    "A window size of 100 is chosen for this particular dataframe."
   ]
  },
  {
   "cell_type": "code",
   "execution_count": 71,
   "id": "f4de7475",
   "metadata": {},
   "outputs": [],
   "source": [
    "window_size = 100"
   ]
  },
  {
   "cell_type": "code",
   "execution_count": 72,
   "id": "86dce407",
   "metadata": {},
   "outputs": [],
   "source": [
    "x_train2, y_train2 = [], []\n",
    "for i in range(window_size, train_data.shape[0]):         # a single prediction on the basis of the last 100 days\n",
    "  x_train2.append(train_data[i-window_size:i,0])\n",
    "  y_train2.append(train_data[i,0])\n",
    "\n",
    "x_train2, y_train2 = np.array(x_train2), np.array(y_train2)\n",
    "x_train2 = x_train2.reshape((x_train2.shape[0], x_train2.shape[1], 1))      # to make the input size compatible with the LSTM input size"
   ]
  },
  {
   "cell_type": "code",
   "execution_count": 73,
   "id": "9be9e22c",
   "metadata": {},
   "outputs": [],
   "source": [
    "x_test2, y_test2 = [], []\n",
    "for i in range(window_size, test_data.shape[0]):\n",
    "  x_test2.append(test_data[i-window_size:i, :])\n",
    "  y_test2.append(test_data[i,:])\n",
    "\n",
    "x_test2, y_test2 = np.array(x_test2), np.array(y_test2)"
   ]
  },
  {
   "cell_type": "code",
   "execution_count": 74,
   "id": "6bc04f31",
   "metadata": {},
   "outputs": [
    {
     "data": {
      "text/plain": [
       "(1661, 100, 1)"
      ]
     },
     "execution_count": 74,
     "metadata": {},
     "output_type": "execute_result"
    }
   ],
   "source": [
    "x_train2.shape"
   ]
  },
  {
   "cell_type": "code",
   "execution_count": 75,
   "id": "409d3321",
   "metadata": {},
   "outputs": [
    {
     "data": {
      "text/plain": [
       "(656, 100, 1)"
      ]
     },
     "execution_count": 75,
     "metadata": {},
     "output_type": "execute_result"
    }
   ],
   "source": [
    "x_test2.shape"
   ]
  },
  {
   "cell_type": "code",
   "execution_count": 76,
   "id": "7568736b",
   "metadata": {},
   "outputs": [],
   "source": [
    "model = Sequential()\n",
    "model.add(LSTM(units = 50, input_shape = (x_train2.shape[1],1), return_sequences=True))\n",
    "model.add(Dropout(0.2))\n",
    "#model.add(LSTM(units = 50, return_sequences = True))\n",
    "#model.add(Dropout(0.2))\n",
    "model.add(LSTM(units = 50))\n",
    "model.add(Dense(units = 1, activation = 'linear'))"
   ]
  },
  {
   "cell_type": "code",
   "execution_count": 77,
   "id": "b6d0039d",
   "metadata": {},
   "outputs": [
    {
     "name": "stdout",
     "output_type": "stream",
     "text": [
      "Model: \"sequential_1\"\n",
      "_________________________________________________________________\n",
      " Layer (type)                Output Shape              Param #   \n",
      "=================================================================\n",
      " lstm_2 (LSTM)               (None, 100, 50)           10400     \n",
      "                                                                 \n",
      " dropout_1 (Dropout)         (None, 100, 50)           0         \n",
      "                                                                 \n",
      " lstm_3 (LSTM)               (None, 50)                20200     \n",
      "                                                                 \n",
      " dense_1 (Dense)             (None, 1)                 51        \n",
      "                                                                 \n",
      "=================================================================\n",
      "Total params: 30,651\n",
      "Trainable params: 30,651\n",
      "Non-trainable params: 0\n",
      "_________________________________________________________________\n"
     ]
    }
   ],
   "source": [
    "model.summary()"
   ]
  },
  {
   "cell_type": "code",
   "execution_count": 78,
   "id": "7c3f1698",
   "metadata": {},
   "outputs": [
    {
     "name": "stdout",
     "output_type": "stream",
     "text": [
      "Epoch 1/200\n",
      "26/26 [==============================] - 15s 272ms/step - loss: 0.0021 - val_loss: 0.0014\n",
      "Epoch 2/200\n",
      "26/26 [==============================] - 6s 219ms/step - loss: 1.2718e-04 - val_loss: 0.0014\n",
      "Epoch 3/200\n",
      "26/26 [==============================] - 6s 227ms/step - loss: 8.4318e-05 - val_loss: 0.0013\n",
      "Epoch 4/200\n",
      "26/26 [==============================] - 6s 235ms/step - loss: 7.7990e-05 - val_loss: 0.0015\n",
      "Epoch 5/200\n",
      "26/26 [==============================] - 7s 259ms/step - loss: 7.9196e-05 - val_loss: 0.0017\n",
      "Epoch 6/200\n",
      "26/26 [==============================] - 7s 253ms/step - loss: 8.2544e-05 - val_loss: 0.0034\n",
      "Epoch 7/200\n",
      "26/26 [==============================] - 6s 228ms/step - loss: 7.3942e-05 - val_loss: 0.0032\n",
      "Epoch 8/200\n",
      "26/26 [==============================] - 7s 272ms/step - loss: 7.1284e-05 - val_loss: 0.0031\n",
      "Epoch 9/200\n",
      "26/26 [==============================] - 6s 243ms/step - loss: 7.0549e-05 - val_loss: 0.0032\n",
      "Epoch 10/200\n",
      "26/26 [==============================] - 6s 213ms/step - loss: 6.4461e-05 - val_loss: 0.0032\n",
      "Epoch 11/200\n",
      "26/26 [==============================] - 6s 228ms/step - loss: 6.9141e-05 - val_loss: 0.0044\n",
      "Epoch 12/200\n",
      "26/26 [==============================] - 6s 211ms/step - loss: 6.8694e-05 - val_loss: 0.0034\n",
      "Epoch 13/200\n",
      "26/26 [==============================] - 6s 216ms/step - loss: 6.3393e-05 - val_loss: 0.0047\n",
      "Epoch 14/200\n",
      "26/26 [==============================] - 6s 214ms/step - loss: 6.3041e-05 - val_loss: 0.0062\n",
      "Epoch 15/200\n",
      "26/26 [==============================] - 5s 211ms/step - loss: 6.5851e-05 - val_loss: 0.0055\n",
      "Epoch 16/200\n",
      "26/26 [==============================] - 6s 222ms/step - loss: 5.8084e-05 - val_loss: 0.0049\n",
      "Epoch 17/200\n",
      "26/26 [==============================] - 6s 218ms/step - loss: 5.1504e-05 - val_loss: 0.0046\n",
      "Epoch 18/200\n",
      "26/26 [==============================] - 5s 204ms/step - loss: 5.3676e-05 - val_loss: 0.0038\n",
      "Epoch 19/200\n",
      "26/26 [==============================] - 6s 217ms/step - loss: 5.8949e-05 - val_loss: 0.0045\n",
      "Epoch 20/200\n",
      "26/26 [==============================] - 5s 209ms/step - loss: 5.5005e-05 - val_loss: 0.0056\n",
      "Epoch 21/200\n",
      "26/26 [==============================] - 6s 240ms/step - loss: 5.2329e-05 - val_loss: 0.0059\n",
      "Epoch 22/200\n",
      "26/26 [==============================] - 6s 232ms/step - loss: 5.4596e-05 - val_loss: 0.0043\n",
      "Epoch 23/200\n",
      "26/26 [==============================] - 5s 212ms/step - loss: 5.4907e-05 - val_loss: 0.0052\n",
      "Epoch 24/200\n",
      "26/26 [==============================] - 6s 215ms/step - loss: 5.7393e-05 - val_loss: 0.0058\n",
      "Epoch 25/200\n",
      "26/26 [==============================] - 6s 220ms/step - loss: 5.1739e-05 - val_loss: 0.0059\n",
      "Epoch 26/200\n",
      "26/26 [==============================] - 6s 213ms/step - loss: 4.4519e-05 - val_loss: 0.0056\n",
      "Epoch 27/200\n",
      "26/26 [==============================] - 6s 251ms/step - loss: 4.9204e-05 - val_loss: 0.0050\n",
      "Epoch 28/200\n",
      "26/26 [==============================] - 6s 225ms/step - loss: 4.7596e-05 - val_loss: 0.0043\n",
      "Epoch 29/200\n",
      "26/26 [==============================] - 7s 259ms/step - loss: 4.5437e-05 - val_loss: 0.0056\n",
      "Epoch 30/200\n",
      "26/26 [==============================] - 6s 240ms/step - loss: 4.9103e-05 - val_loss: 0.0048\n",
      "Epoch 31/200\n",
      "26/26 [==============================] - 6s 234ms/step - loss: 4.5763e-05 - val_loss: 0.0057\n",
      "Epoch 32/200\n",
      "26/26 [==============================] - 6s 225ms/step - loss: 4.4232e-05 - val_loss: 0.0032\n",
      "Epoch 33/200\n",
      "26/26 [==============================] - 6s 224ms/step - loss: 4.1885e-05 - val_loss: 0.0052\n",
      "Epoch 34/200\n",
      "26/26 [==============================] - 5s 210ms/step - loss: 4.2446e-05 - val_loss: 0.0042\n",
      "Epoch 35/200\n",
      "26/26 [==============================] - 6s 224ms/step - loss: 4.1132e-05 - val_loss: 0.0033\n",
      "Epoch 36/200\n",
      "26/26 [==============================] - 6s 249ms/step - loss: 3.8735e-05 - val_loss: 0.0043\n",
      "Epoch 37/200\n",
      "26/26 [==============================] - 6s 230ms/step - loss: 4.1822e-05 - val_loss: 0.0037\n",
      "Epoch 38/200\n",
      "26/26 [==============================] - 6s 248ms/step - loss: 4.1406e-05 - val_loss: 0.0041\n",
      "Epoch 39/200\n",
      "26/26 [==============================] - 6s 220ms/step - loss: 4.2982e-05 - val_loss: 0.0034\n",
      "Epoch 40/200\n",
      "26/26 [==============================] - 6s 223ms/step - loss: 3.8713e-05 - val_loss: 0.0047\n",
      "Epoch 41/200\n",
      "26/26 [==============================] - 6s 223ms/step - loss: 3.8498e-05 - val_loss: 0.0039\n",
      "Epoch 42/200\n",
      "26/26 [==============================] - 5s 207ms/step - loss: 4.2453e-05 - val_loss: 0.0044\n",
      "Epoch 43/200\n",
      "26/26 [==============================] - 7s 254ms/step - loss: 4.3541e-05 - val_loss: 0.0040\n",
      "Epoch 44/200\n",
      "26/26 [==============================] - 6s 238ms/step - loss: 3.8092e-05 - val_loss: 0.0043\n",
      "Epoch 45/200\n",
      "26/26 [==============================] - 6s 241ms/step - loss: 3.7785e-05 - val_loss: 0.0046\n",
      "Epoch 46/200\n",
      "26/26 [==============================] - 7s 261ms/step - loss: 3.9054e-05 - val_loss: 0.0035\n",
      "Epoch 47/200\n",
      "26/26 [==============================] - 6s 230ms/step - loss: 3.5901e-05 - val_loss: 0.0052\n",
      "Epoch 48/200\n",
      "26/26 [==============================] - 6s 250ms/step - loss: 3.5911e-05 - val_loss: 0.0038\n",
      "Epoch 49/200\n",
      "26/26 [==============================] - 6s 243ms/step - loss: 3.6696e-05 - val_loss: 0.0020\n",
      "Epoch 50/200\n",
      "26/26 [==============================] - 6s 238ms/step - loss: 3.6991e-05 - val_loss: 0.0036\n",
      "Epoch 51/200\n",
      "26/26 [==============================] - 7s 261ms/step - loss: 3.8519e-05 - val_loss: 0.0040\n",
      "Epoch 52/200\n",
      "26/26 [==============================] - 6s 242ms/step - loss: 3.6270e-05 - val_loss: 0.0041\n",
      "Epoch 53/200\n",
      "26/26 [==============================] - 7s 253ms/step - loss: 3.5251e-05 - val_loss: 0.0046\n",
      "Epoch 54/200\n",
      "26/26 [==============================] - 7s 253ms/step - loss: 3.5662e-05 - val_loss: 0.0037\n",
      "Epoch 55/200\n",
      "26/26 [==============================] - 7s 268ms/step - loss: 3.3966e-05 - val_loss: 0.0032\n",
      "Epoch 56/200\n",
      "26/26 [==============================] - 7s 264ms/step - loss: 3.6172e-05 - val_loss: 0.0045\n",
      "Epoch 57/200\n",
      "26/26 [==============================] - 7s 258ms/step - loss: 3.4381e-05 - val_loss: 0.0014\n",
      "Epoch 58/200\n",
      "26/26 [==============================] - 7s 266ms/step - loss: 3.7723e-05 - val_loss: 0.0025\n",
      "Epoch 59/200\n",
      "26/26 [==============================] - 7s 260ms/step - loss: 3.2288e-05 - val_loss: 0.0045\n",
      "Epoch 60/200\n",
      "26/26 [==============================] - 7s 265ms/step - loss: 3.0878e-05 - val_loss: 0.0040\n",
      "Epoch 61/200\n",
      "26/26 [==============================] - 7s 284ms/step - loss: 3.4198e-05 - val_loss: 0.0031\n",
      "Epoch 62/200\n",
      "26/26 [==============================] - 6s 242ms/step - loss: 3.2613e-05 - val_loss: 0.0031\n",
      "Epoch 63/200\n",
      "26/26 [==============================] - 6s 245ms/step - loss: 3.6300e-05 - val_loss: 0.0039\n",
      "Epoch 64/200\n",
      "26/26 [==============================] - 6s 249ms/step - loss: 3.4189e-05 - val_loss: 0.0038\n",
      "Epoch 65/200\n",
      "26/26 [==============================] - 6s 249ms/step - loss: 3.4319e-05 - val_loss: 0.0026\n",
      "Epoch 66/200\n",
      "26/26 [==============================] - 6s 248ms/step - loss: 3.3182e-05 - val_loss: 0.0029\n",
      "Epoch 67/200\n",
      "26/26 [==============================] - 6s 240ms/step - loss: 3.1978e-05 - val_loss: 0.0032\n",
      "Epoch 68/200\n",
      "26/26 [==============================] - 6s 250ms/step - loss: 3.4086e-05 - val_loss: 0.0031\n",
      "Epoch 69/200\n",
      "26/26 [==============================] - 7s 254ms/step - loss: 3.0609e-05 - val_loss: 0.0042\n",
      "Epoch 70/200\n",
      "26/26 [==============================] - 7s 272ms/step - loss: 2.9756e-05 - val_loss: 0.0029\n",
      "Epoch 71/200\n",
      "26/26 [==============================] - 7s 254ms/step - loss: 3.0411e-05 - val_loss: 0.0027\n",
      "Epoch 72/200\n",
      "26/26 [==============================] - 6s 237ms/step - loss: 3.3973e-05 - val_loss: 0.0026\n",
      "Epoch 73/200\n",
      "26/26 [==============================] - 6s 241ms/step - loss: 3.0997e-05 - val_loss: 0.0021\n",
      "Epoch 74/200\n",
      "26/26 [==============================] - 6s 224ms/step - loss: 2.6653e-05 - val_loss: 0.0019\n",
      "Epoch 75/200\n",
      "26/26 [==============================] - 6s 227ms/step - loss: 3.0285e-05 - val_loss: 0.0019\n",
      "Epoch 76/200\n",
      "26/26 [==============================] - 6s 226ms/step - loss: 3.1747e-05 - val_loss: 0.0028\n",
      "Epoch 77/200\n",
      "26/26 [==============================] - 6s 219ms/step - loss: 2.9876e-05 - val_loss: 0.0022\n",
      "Epoch 78/200\n",
      "26/26 [==============================] - 6s 227ms/step - loss: 2.8231e-05 - val_loss: 0.0021\n",
      "Epoch 79/200\n",
      "26/26 [==============================] - 6s 225ms/step - loss: 2.8747e-05 - val_loss: 0.0017\n",
      "Epoch 80/200\n",
      "26/26 [==============================] - 6s 224ms/step - loss: 2.7821e-05 - val_loss: 0.0024\n",
      "Epoch 81/200\n",
      "26/26 [==============================] - 6s 249ms/step - loss: 2.7712e-05 - val_loss: 0.0018\n",
      "Epoch 82/200\n",
      "26/26 [==============================] - 6s 228ms/step - loss: 2.8188e-05 - val_loss: 0.0025\n",
      "Epoch 83/200\n",
      "26/26 [==============================] - 6s 233ms/step - loss: 2.7478e-05 - val_loss: 0.0029\n",
      "Epoch 84/200\n",
      "26/26 [==============================] - 7s 280ms/step - loss: 2.8877e-05 - val_loss: 0.0026\n",
      "Epoch 85/200\n",
      "26/26 [==============================] - 6s 240ms/step - loss: 2.9864e-05 - val_loss: 0.0040\n",
      "Epoch 86/200\n",
      "26/26 [==============================] - 7s 290ms/step - loss: 2.6321e-05 - val_loss: 0.0024\n",
      "Epoch 87/200\n",
      "26/26 [==============================] - 9s 341ms/step - loss: 2.7286e-05 - val_loss: 0.0030\n",
      "Epoch 88/200\n",
      "26/26 [==============================] - 9s 329ms/step - loss: 2.8140e-05 - val_loss: 0.0023\n",
      "Epoch 89/200\n",
      "26/26 [==============================] - 8s 321ms/step - loss: 2.8253e-05 - val_loss: 0.0022\n",
      "Epoch 90/200\n",
      "26/26 [==============================] - 7s 282ms/step - loss: 3.0521e-05 - val_loss: 0.0034\n",
      "Epoch 91/200\n",
      "26/26 [==============================] - 6s 221ms/step - loss: 3.0339e-05 - val_loss: 0.0040\n",
      "Epoch 92/200\n",
      "26/26 [==============================] - 6s 240ms/step - loss: 2.5170e-05 - val_loss: 0.0035\n",
      "Epoch 93/200\n",
      "26/26 [==============================] - 6s 252ms/step - loss: 2.5911e-05 - val_loss: 0.0020\n",
      "Epoch 94/200\n",
      "26/26 [==============================] - 7s 254ms/step - loss: 2.7764e-05 - val_loss: 0.0036\n",
      "Epoch 95/200\n",
      "26/26 [==============================] - 6s 238ms/step - loss: 2.6486e-05 - val_loss: 0.0015\n",
      "Epoch 96/200\n",
      "26/26 [==============================] - 6s 235ms/step - loss: 2.4133e-05 - val_loss: 0.0026\n",
      "Epoch 97/200\n",
      "26/26 [==============================] - 7s 267ms/step - loss: 2.3686e-05 - val_loss: 0.0018\n",
      "Epoch 98/200\n",
      "26/26 [==============================] - 7s 258ms/step - loss: 2.5363e-05 - val_loss: 0.0029\n",
      "Epoch 99/200\n",
      "26/26 [==============================] - 7s 260ms/step - loss: 2.6107e-05 - val_loss: 0.0024\n",
      "Epoch 100/200\n",
      "26/26 [==============================] - 7s 263ms/step - loss: 3.2738e-05 - val_loss: 0.0043\n",
      "Epoch 101/200\n",
      "26/26 [==============================] - 6s 251ms/step - loss: 2.9535e-05 - val_loss: 0.0029\n",
      "Epoch 102/200\n",
      "26/26 [==============================] - 7s 277ms/step - loss: 2.5073e-05 - val_loss: 0.0017\n",
      "Epoch 103/200\n",
      "26/26 [==============================] - 7s 266ms/step - loss: 2.6101e-05 - val_loss: 0.0018\n",
      "Epoch 104/200\n",
      "26/26 [==============================] - 7s 260ms/step - loss: 2.3993e-05 - val_loss: 0.0022\n",
      "Epoch 105/200\n",
      "26/26 [==============================] - 6s 242ms/step - loss: 2.3660e-05 - val_loss: 0.0014\n",
      "Epoch 106/200\n",
      "26/26 [==============================] - 7s 265ms/step - loss: 2.7409e-05 - val_loss: 0.0013\n",
      "Epoch 107/200\n",
      "26/26 [==============================] - 6s 245ms/step - loss: 2.6626e-05 - val_loss: 0.0020\n",
      "Epoch 108/200\n",
      "26/26 [==============================] - 7s 257ms/step - loss: 2.5031e-05 - val_loss: 0.0019\n",
      "Epoch 109/200\n",
      "26/26 [==============================] - 7s 267ms/step - loss: 2.3348e-05 - val_loss: 0.0017\n",
      "Epoch 110/200\n",
      "26/26 [==============================] - 6s 234ms/step - loss: 2.6081e-05 - val_loss: 0.0030\n",
      "Epoch 111/200\n",
      "26/26 [==============================] - 6s 235ms/step - loss: 2.9050e-05 - val_loss: 0.0036\n",
      "Epoch 112/200\n",
      "26/26 [==============================] - 6s 239ms/step - loss: 2.5745e-05 - val_loss: 0.0034\n",
      "Epoch 113/200\n",
      "26/26 [==============================] - 6s 234ms/step - loss: 2.4341e-05 - val_loss: 0.0033\n",
      "Epoch 114/200\n",
      "26/26 [==============================] - 8s 303ms/step - loss: 2.4733e-05 - val_loss: 0.0023\n",
      "Epoch 115/200\n",
      "26/26 [==============================] - 6s 244ms/step - loss: 2.3003e-05 - val_loss: 0.0021\n",
      "Epoch 116/200\n",
      "26/26 [==============================] - 6s 224ms/step - loss: 2.4371e-05 - val_loss: 0.0024\n",
      "Epoch 117/200\n",
      "26/26 [==============================] - 7s 267ms/step - loss: 2.4402e-05 - val_loss: 0.0034\n",
      "Epoch 118/200\n",
      "26/26 [==============================] - 6s 217ms/step - loss: 2.6774e-05 - val_loss: 0.0025\n",
      "Epoch 119/200\n",
      "26/26 [==============================] - 6s 250ms/step - loss: 2.2287e-05 - val_loss: 0.0027\n",
      "Epoch 120/200\n",
      "26/26 [==============================] - 6s 245ms/step - loss: 2.2829e-05 - val_loss: 0.0029\n",
      "Epoch 121/200\n",
      "26/26 [==============================] - 7s 258ms/step - loss: 2.3728e-05 - val_loss: 0.0033\n",
      "Epoch 122/200\n",
      "26/26 [==============================] - 7s 272ms/step - loss: 2.4959e-05 - val_loss: 0.0025\n",
      "Epoch 123/200\n",
      "26/26 [==============================] - 6s 244ms/step - loss: 2.4228e-05 - val_loss: 0.0032\n",
      "Epoch 124/200\n",
      "26/26 [==============================] - 6s 238ms/step - loss: 2.3986e-05 - val_loss: 0.0017\n",
      "Epoch 125/200\n",
      "26/26 [==============================] - 6s 230ms/step - loss: 2.8386e-05 - val_loss: 0.0019\n",
      "Epoch 126/200\n",
      "26/26 [==============================] - 6s 230ms/step - loss: 2.5789e-05 - val_loss: 0.0033\n",
      "Epoch 127/200\n",
      "26/26 [==============================] - 6s 237ms/step - loss: 2.3496e-05 - val_loss: 0.0028\n",
      "Epoch 128/200\n",
      "26/26 [==============================] - 6s 249ms/step - loss: 2.4563e-05 - val_loss: 0.0021\n",
      "Epoch 129/200\n",
      "26/26 [==============================] - 7s 280ms/step - loss: 2.5121e-05 - val_loss: 0.0037\n",
      "Epoch 130/200\n",
      "26/26 [==============================] - 8s 294ms/step - loss: 2.1778e-05 - val_loss: 0.0023\n",
      "Epoch 131/200\n",
      "26/26 [==============================] - 8s 312ms/step - loss: 2.7974e-05 - val_loss: 0.0023\n",
      "Epoch 132/200\n",
      "26/26 [==============================] - 8s 296ms/step - loss: 2.9421e-05 - val_loss: 0.0017\n",
      "Epoch 133/200\n",
      "26/26 [==============================] - 7s 277ms/step - loss: 2.2219e-05 - val_loss: 0.0017\n",
      "Epoch 134/200\n",
      "26/26 [==============================] - 7s 275ms/step - loss: 2.1826e-05 - val_loss: 0.0017\n",
      "Epoch 135/200\n",
      "26/26 [==============================] - 7s 272ms/step - loss: 2.0762e-05 - val_loss: 0.0028\n",
      "Epoch 136/200\n",
      "26/26 [==============================] - 6s 237ms/step - loss: 2.3949e-05 - val_loss: 0.0043\n",
      "Epoch 137/200\n",
      "26/26 [==============================] - 6s 236ms/step - loss: 2.2993e-05 - val_loss: 0.0039\n",
      "Epoch 138/200\n",
      "26/26 [==============================] - 7s 260ms/step - loss: 2.1346e-05 - val_loss: 0.0025\n",
      "Epoch 139/200\n",
      "26/26 [==============================] - 7s 264ms/step - loss: 2.2114e-05 - val_loss: 0.0015\n",
      "Epoch 140/200\n",
      "26/26 [==============================] - 6s 231ms/step - loss: 2.1538e-05 - val_loss: 0.0029\n",
      "Epoch 141/200\n",
      "26/26 [==============================] - 6s 238ms/step - loss: 2.2304e-05 - val_loss: 0.0029\n",
      "Epoch 142/200\n",
      "26/26 [==============================] - 5s 212ms/step - loss: 2.1486e-05 - val_loss: 0.0020\n",
      "Epoch 143/200\n",
      "26/26 [==============================] - 6s 224ms/step - loss: 2.3064e-05 - val_loss: 0.0029\n",
      "Epoch 144/200\n",
      "26/26 [==============================] - 6s 235ms/step - loss: 2.4093e-05 - val_loss: 0.0032\n",
      "Epoch 145/200\n",
      "26/26 [==============================] - 6s 220ms/step - loss: 2.0996e-05 - val_loss: 0.0022\n",
      "Epoch 146/200\n",
      "26/26 [==============================] - 6s 242ms/step - loss: 1.9950e-05 - val_loss: 0.0020\n",
      "Epoch 147/200\n",
      "26/26 [==============================] - 6s 230ms/step - loss: 2.0728e-05 - val_loss: 0.0028\n",
      "Epoch 148/200\n",
      "26/26 [==============================] - 6s 241ms/step - loss: 2.2889e-05 - val_loss: 0.0020\n",
      "Epoch 149/200\n",
      "26/26 [==============================] - 6s 220ms/step - loss: 2.1490e-05 - val_loss: 0.0035\n",
      "Epoch 150/200\n",
      "26/26 [==============================] - 6s 239ms/step - loss: 2.0661e-05 - val_loss: 0.0022\n",
      "Epoch 151/200\n",
      "26/26 [==============================] - 7s 256ms/step - loss: 1.9005e-05 - val_loss: 0.0024\n",
      "Epoch 152/200\n",
      "26/26 [==============================] - 7s 268ms/step - loss: 1.8978e-05 - val_loss: 0.0031\n",
      "Epoch 153/200\n",
      "26/26 [==============================] - 6s 230ms/step - loss: 2.1297e-05 - val_loss: 0.0036\n",
      "Epoch 154/200\n",
      "26/26 [==============================] - 6s 244ms/step - loss: 2.3968e-05 - val_loss: 0.0022\n",
      "Epoch 155/200\n",
      "26/26 [==============================] - 6s 245ms/step - loss: 2.7814e-05 - val_loss: 0.0033\n",
      "Epoch 156/200\n",
      "26/26 [==============================] - 6s 239ms/step - loss: 2.4334e-05 - val_loss: 0.0013\n",
      "Epoch 157/200\n",
      "26/26 [==============================] - 6s 221ms/step - loss: 2.0719e-05 - val_loss: 0.0027\n",
      "Epoch 158/200\n",
      "26/26 [==============================] - 6s 238ms/step - loss: 2.0421e-05 - val_loss: 0.0015\n",
      "Epoch 159/200\n",
      "26/26 [==============================] - 6s 235ms/step - loss: 2.1459e-05 - val_loss: 0.0018\n",
      "Epoch 160/200\n",
      "26/26 [==============================] - 6s 231ms/step - loss: 2.2475e-05 - val_loss: 0.0021\n",
      "Epoch 161/200\n",
      "26/26 [==============================] - 6s 239ms/step - loss: 2.0873e-05 - val_loss: 0.0032\n",
      "Epoch 162/200\n",
      "26/26 [==============================] - 7s 263ms/step - loss: 2.1678e-05 - val_loss: 0.0026\n",
      "Epoch 163/200\n",
      "26/26 [==============================] - 6s 243ms/step - loss: 1.9022e-05 - val_loss: 0.0026\n",
      "Epoch 164/200\n",
      "26/26 [==============================] - 6s 236ms/step - loss: 2.5205e-05 - val_loss: 0.0027\n",
      "Epoch 165/200\n",
      "26/26 [==============================] - 6s 223ms/step - loss: 2.0488e-05 - val_loss: 0.0022\n",
      "Epoch 166/200\n",
      "26/26 [==============================] - 6s 224ms/step - loss: 2.5008e-05 - val_loss: 0.0016\n",
      "Epoch 167/200\n",
      "26/26 [==============================] - 6s 247ms/step - loss: 2.2151e-05 - val_loss: 0.0018\n",
      "Epoch 168/200\n",
      "26/26 [==============================] - 7s 253ms/step - loss: 2.1040e-05 - val_loss: 0.0024\n",
      "Epoch 169/200\n",
      "26/26 [==============================] - 6s 229ms/step - loss: 1.8337e-05 - val_loss: 0.0034\n",
      "Epoch 170/200\n",
      "26/26 [==============================] - 6s 233ms/step - loss: 1.9219e-05 - val_loss: 0.0021\n",
      "Epoch 171/200\n",
      "26/26 [==============================] - 6s 250ms/step - loss: 1.9406e-05 - val_loss: 0.0021\n",
      "Epoch 172/200\n",
      "26/26 [==============================] - 9s 339ms/step - loss: 1.9529e-05 - val_loss: 0.0021\n",
      "Epoch 173/200\n",
      "26/26 [==============================] - 8s 299ms/step - loss: 1.9343e-05 - val_loss: 0.0020\n",
      "Epoch 174/200\n",
      "26/26 [==============================] - 7s 278ms/step - loss: 1.8994e-05 - val_loss: 0.0024\n",
      "Epoch 175/200\n",
      "26/26 [==============================] - 7s 256ms/step - loss: 1.9579e-05 - val_loss: 0.0042\n",
      "Epoch 176/200\n",
      "26/26 [==============================] - 7s 273ms/step - loss: 1.9418e-05 - val_loss: 0.0013\n",
      "Epoch 177/200\n",
      "26/26 [==============================] - 7s 259ms/step - loss: 2.0677e-05 - val_loss: 0.0028\n",
      "Epoch 178/200\n",
      "26/26 [==============================] - 7s 254ms/step - loss: 2.1351e-05 - val_loss: 0.0015\n",
      "Epoch 179/200\n",
      "26/26 [==============================] - 6s 246ms/step - loss: 2.2390e-05 - val_loss: 0.0017\n",
      "Epoch 180/200\n",
      "26/26 [==============================] - 6s 225ms/step - loss: 2.1553e-05 - val_loss: 0.0014\n",
      "Epoch 181/200\n",
      "26/26 [==============================] - 6s 247ms/step - loss: 2.0197e-05 - val_loss: 9.3088e-04\n",
      "Epoch 182/200\n",
      "26/26 [==============================] - 6s 232ms/step - loss: 2.1584e-05 - val_loss: 0.0012\n",
      "Epoch 183/200\n",
      "26/26 [==============================] - 6s 223ms/step - loss: 1.8710e-05 - val_loss: 0.0033\n",
      "Epoch 184/200\n",
      "26/26 [==============================] - 6s 228ms/step - loss: 1.9500e-05 - val_loss: 0.0021\n",
      "Epoch 185/200\n",
      "26/26 [==============================] - 6s 216ms/step - loss: 1.8598e-05 - val_loss: 0.0030\n",
      "Epoch 186/200\n",
      "26/26 [==============================] - 6s 244ms/step - loss: 2.2391e-05 - val_loss: 0.0013\n",
      "Epoch 187/200\n",
      "26/26 [==============================] - 6s 249ms/step - loss: 1.8738e-05 - val_loss: 0.0024\n",
      "Epoch 188/200\n",
      "26/26 [==============================] - 6s 217ms/step - loss: 1.9822e-05 - val_loss: 0.0024\n",
      "Epoch 189/200\n",
      "26/26 [==============================] - 6s 226ms/step - loss: 2.1399e-05 - val_loss: 0.0024\n",
      "Epoch 190/200\n",
      "26/26 [==============================] - 6s 217ms/step - loss: 1.9875e-05 - val_loss: 0.0011\n",
      "Epoch 191/200\n",
      "26/26 [==============================] - 6s 220ms/step - loss: 2.0768e-05 - val_loss: 8.2143e-04\n",
      "Epoch 192/200\n",
      "26/26 [==============================] - 6s 239ms/step - loss: 2.2846e-05 - val_loss: 0.0021\n",
      "Epoch 193/200\n",
      "26/26 [==============================] - 6s 235ms/step - loss: 1.7247e-05 - val_loss: 0.0015\n",
      "Epoch 194/200\n",
      "26/26 [==============================] - 6s 222ms/step - loss: 1.6921e-05 - val_loss: 0.0015\n",
      "Epoch 195/200\n",
      "26/26 [==============================] - 6s 226ms/step - loss: 1.6223e-05 - val_loss: 0.0016\n",
      "Epoch 196/200\n",
      "26/26 [==============================] - 6s 216ms/step - loss: 1.7822e-05 - val_loss: 0.0016\n",
      "Epoch 197/200\n",
      "26/26 [==============================] - 6s 225ms/step - loss: 1.7607e-05 - val_loss: 0.0017\n",
      "Epoch 198/200\n",
      "26/26 [==============================] - 6s 227ms/step - loss: 1.8022e-05 - val_loss: 0.0030\n",
      "Epoch 199/200\n",
      "26/26 [==============================] - 6s 220ms/step - loss: 1.9523e-05 - val_loss: 0.0020\n",
      "Epoch 200/200\n",
      "26/26 [==============================] - 6s 227ms/step - loss: 2.1594e-05 - val_loss: 0.0014\n"
     ]
    },
    {
     "data": {
      "text/plain": [
       "<keras.callbacks.History at 0x1941d2cafa0>"
      ]
     },
     "execution_count": 78,
     "metadata": {},
     "output_type": "execute_result"
    }
   ],
   "source": [
    "model.compile(loss='mean_squared_error', optimizer='adam')\n",
    "model.fit(x_train2, y_train2, validation_data = (x_test2, y_test2) ,epochs= 200, batch_size= 64, verbose=1)"
   ]
  },
  {
   "cell_type": "code",
   "execution_count": 79,
   "id": "2dbdc350",
   "metadata": {},
   "outputs": [
    {
     "name": "stdout",
     "output_type": "stream",
     "text": [
      "21/21 [==============================] - 3s 42ms/step\n"
     ]
    }
   ],
   "source": [
    "y_pred = scaler.inverse_transform(model.predict(x_test2))\n",
    "y_test = scaler.inverse_transform(y_test2)"
   ]
  },
  {
   "cell_type": "code",
   "execution_count": 80,
   "id": "4d1403d8",
   "metadata": {},
   "outputs": [
    {
     "data": {
      "text/plain": [
       "array([[66.09887],\n",
       "       [65.85032],\n",
       "       [66.48174],\n",
       "       [66.61447],\n",
       "       [67.07816]], dtype=float32)"
      ]
     },
     "execution_count": 80,
     "metadata": {},
     "output_type": "execute_result"
    }
   ],
   "source": [
    "y_pred[:5]"
   ]
  },
  {
   "cell_type": "code",
   "execution_count": 81,
   "id": "5d5aa5d2",
   "metadata": {},
   "outputs": [
    {
     "data": {
      "text/plain": [
       "array([[65.445 ],\n",
       "       [66.5925],\n",
       "       [66.0725],\n",
       "       [66.96  ],\n",
       "       [66.8125]])"
      ]
     },
     "execution_count": 81,
     "metadata": {},
     "output_type": "execute_result"
    }
   ],
   "source": [
    "y_test[:5]"
   ]
  },
  {
   "cell_type": "markdown",
   "id": "0c400eb7",
   "metadata": {},
   "source": [
    "# Evaluation"
   ]
  },
  {
   "cell_type": "code",
   "execution_count": 82,
   "id": "78397e75",
   "metadata": {},
   "outputs": [
    {
     "name": "stdout",
     "output_type": "stream",
     "text": [
      "Root Mean Squared Error :  6.288010136195971\n"
     ]
    }
   ],
   "source": [
    "import math\n",
    "from sklearn.metrics import mean_squared_error\n",
    "\n",
    "rmse_score = math.sqrt(mean_squared_error(y_test,y_pred))\n",
    "print('Root Mean Squared Error : ',rmse_score)"
   ]
  },
  {
   "cell_type": "code",
   "execution_count": 83,
   "id": "0041b792",
   "metadata": {},
   "outputs": [
    {
     "name": "stdout",
     "output_type": "stream",
     "text": [
      "R-squared Score  :  0.9637482984257008\n"
     ]
    }
   ],
   "source": [
    "from sklearn.metrics import r2_score\n",
    "print('R-squared Score  : ',r2_score(y_test,y_pred))"
   ]
  },
  {
   "cell_type": "code",
   "execution_count": 84,
   "id": "cc29a780",
   "metadata": {},
   "outputs": [
    {
     "name": "stdout",
     "output_type": "stream",
     "text": [
      "52/52 [==============================] - 2s 43ms/step\n"
     ]
    },
    {
     "name": "stderr",
     "output_type": "stream",
     "text": [
      "No handles with labels found to put in legend.\n"
     ]
    },
    {
     "data": {
      "image/png": "[encoded data removed]",
      "text/plain": [
       "<Figure size 432x288 with 1 Axes>"
      ]
     },
     "metadata": {
      "needs_background": "light"
     },
     "output_type": "display_data"
    }
   ],
   "source": [
    "# shift train predictions for plotting\n",
    "train_predict = scaler.inverse_transform(model.predict(x_train2))\n",
    "\n",
    "look_back=100\n",
    "trainPredictPlot = np.empty_like(df)\n",
    "trainPredictPlot[:, :] = np.nan\n",
    "trainPredictPlot[look_back:len(train_predict)+look_back, :] = train_predict\n",
    "# shift test predictions for plotting\n",
    "testPredictPlot = np.empty_like(df)\n",
    "testPredictPlot[:, :] = np.nan\n",
    "testPredictPlot[len(train_predict)+(look_back*2):len(df), :] = y_pred\n",
    "# plot baseline and predictions\n",
    "plt.plot(scaler.inverse_transform(df))\n",
    "plt.plot(trainPredictPlot)\n",
    "plt.plot(testPredictPlot)\n",
    "plt.legend()\n",
    "plt.show()"
   ]
  },
  {
   "cell_type": "markdown",
   "id": "54cfa385",
   "metadata": {},
   "source": [
    "# Future Prediction"
   ]
  },
  {
   "cell_type": "code",
   "execution_count": 85,
   "id": "f8c3f9c6",
   "metadata": {},
   "outputs": [],
   "source": [
    "x_input = test_data[len(test_data)-window_size:, 0]"
   ]
  },
  {
   "cell_type": "code",
   "execution_count": 86,
   "id": "4f1f30c6",
   "metadata": {},
   "outputs": [],
   "source": [
    "x_input=x_input.reshape(1,-1)"
   ]
  },
  {
   "cell_type": "code",
   "execution_count": 87,
   "id": "669a1d05",
   "metadata": {},
   "outputs": [
    {
     "data": {
      "text/plain": [
       "(1, 100)"
      ]
     },
     "execution_count": 87,
     "metadata": {},
     "output_type": "execute_result"
    }
   ],
   "source": [
    "# we have the data of 100 days for a single prediction \n",
    "x_input.shape"
   ]
  },
  {
   "cell_type": "code",
   "execution_count": 88,
   "id": "ab858312",
   "metadata": {},
   "outputs": [],
   "source": [
    "x_input_list = list(x_input)\n",
    "x_input_list = list(x_input_list[0])"
   ]
  },
  {
   "cell_type": "code",
   "execution_count": 89,
   "id": "ff6c5baf",
   "metadata": {},
   "outputs": [
    {
     "name": "stdout",
     "output_type": "stream",
     "text": [
      "1/1 [==============================] - 0s 39ms/step\n"
     ]
    },
    {
     "data": {
      "text/plain": [
       "0.7028312"
      ]
     },
     "execution_count": 89,
     "metadata": {},
     "output_type": "execute_result"
    }
   ],
   "source": [
    "x_input = x_input.reshape((1, window_size, 1))\n",
    "prediction = model.predict(x_input)\n",
    "prediction[0][0]"
   ]
  },
  {
   "cell_type": "code",
   "execution_count": 90,
   "id": "f3cae120",
   "metadata": {},
   "outputs": [],
   "source": [
    "x_input_list.append(prediction[0][0])"
   ]
  },
  {
   "cell_type": "code",
   "execution_count": 91,
   "id": "790e7c3d",
   "metadata": {},
   "outputs": [
    {
     "data": {
      "text/plain": [
       "[0.9572777984380813,\n",
       " 0.9659055410933434,\n",
       " 0.9411528449237635,\n",
       " 0.9204462625511342,\n",
       " 0.9218743027147639,\n",
       " 0.9451394570472295,\n",
       " 0.9437114168835999,\n",
       " 0.9218743027147639,\n",
       " 0.9124730383042023,\n",
       " 0.8947415396058014,\n",
       " 0.8694533283748606,\n",
       " 0.88534027519524,\n",
       " 0.8978951283004835,\n",
       " 0.8995016734845668,\n",
       " 0.8880773521755299,\n",
       " 0.9080699144663444,\n",
       " 0.9061063592413536,\n",
       " 0.8878988471550762,\n",
       " 0.864871699516549,\n",
       " 0.8538043882484195,\n",
       " 0.8865898103384157,\n",
       " 0.8602305689847528,\n",
       " 0.8376794347341019,\n",
       " 0.813224246931945,\n",
       " 0.8398214949795463,\n",
       " 0.8665972480476014,\n",
       " 0.8727259204165118,\n",
       " 0.8927184827073261,\n",
       " 0.9010487169951654,\n",
       " 0.9215172926738565,\n",
       " 0.9297880252882113,\n",
       " 0.952755671253254,\n",
       " 0.9566232800297508,\n",
       " 0.9618594272963926,\n",
       " 0.9818519895872072,\n",
       " 0.9747712904425437,\n",
       " 0.9559687616214206,\n",
       " 0.9541837114168835,\n",
       " 0.9787579025660097,\n",
       " 0.9586463369282262,\n",
       " 0.9394272963927112,\n",
       " 0.9412718482707326,\n",
       " 0.9290740052063965,\n",
       " 0.9032502789140945,\n",
       " 0.9146150985496467,\n",
       " 0.930918557084418,\n",
       " 0.9005132019338044,\n",
       " 0.8992041651171438,\n",
       " 0.913068055039048,\n",
       " 0.9120565265898103,\n",
       " 0.9072368910375603,\n",
       " 0.879687616214206,\n",
       " 0.8861732986240238,\n",
       " 0.8499962811454073,\n",
       " 0.8486277426552622,\n",
       " 0.8906954258088507,\n",
       " 0.8550539233915955,\n",
       " 0.856898475269617,\n",
       " 0.8659427296392711,\n",
       " 0.9048568240981778,\n",
       " 0.8498177761249536,\n",
       " 0.8528523614726664,\n",
       " 0.8217924879137226,\n",
       " 0.8363703979174414,\n",
       " 0.7887095574563034,\n",
       " 0.7652658981033842,\n",
       " 0.7923391595388621,\n",
       " 0.782997396801785,\n",
       " 0.8050130159910748,\n",
       " 0.7549126069170695,\n",
       " 0.7342655262179248,\n",
       " 0.7356935663815545,\n",
       " 0.7685384901450354,\n",
       " 0.7521755299367796,\n",
       " 0.7531275567125326,\n",
       " 0.7725251022685014,\n",
       " 0.8073930829304573,\n",
       " 0.8026329490516921,\n",
       " 0.8018594272963928,\n",
       " 0.8167348456675345,\n",
       " 0.7820453700260319,\n",
       " 0.786567497210859,\n",
       " 0.8018594272963928,\n",
       " 0.7973968017850502,\n",
       " 0.7657419114912606,\n",
       " 0.7329564894012645,\n",
       " 0.7017181108218669,\n",
       " 0.7069542580885086,\n",
       " 0.7228412049088881,\n",
       " 0.6908888062476758,\n",
       " 0.6998140572703607,\n",
       " 0.725459278542209,\n",
       " 0.7223651915210115,\n",
       " 0.7397396801785051,\n",
       " 0.7599107474897732,\n",
       " 0.7599107474897732,\n",
       " 0.734801041279286,\n",
       " 0.7454518408330234,\n",
       " 0.7305169207883971,\n",
       " 0.7436667906284865,\n",
       " 0.7028312]"
      ]
     },
     "execution_count": 91,
     "metadata": {},
     "output_type": "execute_result"
    }
   ],
   "source": [
    "x_input_list"
   ]
  },
  {
   "cell_type": "code",
   "execution_count": 92,
   "id": "686271a3",
   "metadata": {},
   "outputs": [
    {
     "data": {
      "text/plain": [
       "101"
      ]
     },
     "execution_count": 92,
     "metadata": {},
     "output_type": "execute_result"
    }
   ],
   "source": [
    "len(x_input_list)"
   ]
  },
  {
   "cell_type": "code",
   "execution_count": 93,
   "id": "13b49660",
   "metadata": {},
   "outputs": [],
   "source": [
    "# since we only need 100 values for our prediction\n",
    "x_input_list.remove(x_input_list[0])"
   ]
  },
  {
   "cell_type": "code",
   "execution_count": 94,
   "id": "ab27fb37",
   "metadata": {},
   "outputs": [
    {
     "data": {
      "text/plain": [
       "[0.9659055410933434,\n",
       " 0.9411528449237635,\n",
       " 0.9204462625511342,\n",
       " 0.9218743027147639,\n",
       " 0.9451394570472295,\n",
       " 0.9437114168835999,\n",
       " 0.9218743027147639,\n",
       " 0.9124730383042023,\n",
       " 0.8947415396058014,\n",
       " 0.8694533283748606,\n",
       " 0.88534027519524,\n",
       " 0.8978951283004835,\n",
       " 0.8995016734845668,\n",
       " 0.8880773521755299,\n",
       " 0.9080699144663444,\n",
       " 0.9061063592413536,\n",
       " 0.8878988471550762,\n",
       " 0.864871699516549,\n",
       " 0.8538043882484195,\n",
       " 0.8865898103384157,\n",
       " 0.8602305689847528,\n",
       " 0.8376794347341019,\n",
       " 0.813224246931945,\n",
       " 0.8398214949795463,\n",
       " 0.8665972480476014,\n",
       " 0.8727259204165118,\n",
       " 0.8927184827073261,\n",
       " 0.9010487169951654,\n",
       " 0.9215172926738565,\n",
       " 0.9297880252882113,\n",
       " 0.952755671253254,\n",
       " 0.9566232800297508,\n",
       " 0.9618594272963926,\n",
       " 0.9818519895872072,\n",
       " 0.9747712904425437,\n",
       " 0.9559687616214206,\n",
       " 0.9541837114168835,\n",
       " 0.9787579025660097,\n",
       " 0.9586463369282262,\n",
       " 0.9394272963927112,\n",
       " 0.9412718482707326,\n",
       " 0.9290740052063965,\n",
       " 0.9032502789140945,\n",
       " 0.9146150985496467,\n",
       " 0.930918557084418,\n",
       " 0.9005132019338044,\n",
       " 0.8992041651171438,\n",
       " 0.913068055039048,\n",
       " 0.9120565265898103,\n",
       " 0.9072368910375603,\n",
       " 0.879687616214206,\n",
       " 0.8861732986240238,\n",
       " 0.8499962811454073,\n",
       " 0.8486277426552622,\n",
       " 0.8906954258088507,\n",
       " 0.8550539233915955,\n",
       " 0.856898475269617,\n",
       " 0.8659427296392711,\n",
       " 0.9048568240981778,\n",
       " 0.8498177761249536,\n",
       " 0.8528523614726664,\n",
       " 0.8217924879137226,\n",
       " 0.8363703979174414,\n",
       " 0.7887095574563034,\n",
       " 0.7652658981033842,\n",
       " 0.7923391595388621,\n",
       " 0.782997396801785,\n",
       " 0.8050130159910748,\n",
       " 0.7549126069170695,\n",
       " 0.7342655262179248,\n",
       " 0.7356935663815545,\n",
       " 0.7685384901450354,\n",
       " 0.7521755299367796,\n",
       " 0.7531275567125326,\n",
       " 0.7725251022685014,\n",
       " 0.8073930829304573,\n",
       " 0.8026329490516921,\n",
       " 0.8018594272963928,\n",
       " 0.8167348456675345,\n",
       " 0.7820453700260319,\n",
       " 0.786567497210859,\n",
       " 0.8018594272963928,\n",
       " 0.7973968017850502,\n",
       " 0.7657419114912606,\n",
       " 0.7329564894012645,\n",
       " 0.7017181108218669,\n",
       " 0.7069542580885086,\n",
       " 0.7228412049088881,\n",
       " 0.6908888062476758,\n",
       " 0.6998140572703607,\n",
       " 0.725459278542209,\n",
       " 0.7223651915210115,\n",
       " 0.7397396801785051,\n",
       " 0.7599107474897732,\n",
       " 0.7599107474897732,\n",
       " 0.734801041279286,\n",
       " 0.7454518408330234,\n",
       " 0.7305169207883971,\n",
       " 0.7436667906284865,\n",
       " 0.7028312]"
      ]
     },
     "execution_count": 94,
     "metadata": {},
     "output_type": "execute_result"
    }
   ],
   "source": [
    "x_input_list"
   ]
  },
  {
   "cell_type": "code",
   "execution_count": 95,
   "id": "d80002ee",
   "metadata": {},
   "outputs": [
    {
     "name": "stdout",
     "output_type": "stream",
     "text": [
      "1/1 [==============================] - 0s 45ms/step\n"
     ]
    },
    {
     "data": {
      "text/plain": [
       "0.68377846"
      ]
     },
     "execution_count": 95,
     "metadata": {},
     "output_type": "execute_result"
    }
   ],
   "source": [
    "x_input = np.array(x_input_list)\n",
    "x_input = x_input.reshape((1, window_size, 1))\n",
    "prediction = model.predict(x_input)\n",
    "prediction[0][0]"
   ]
  },
  {
   "cell_type": "code",
   "execution_count": 96,
   "id": "7393f24e",
   "metadata": {},
   "outputs": [
    {
     "data": {
      "text/plain": [
       "array([[139.29832735, 128.6999935 ]])"
      ]
     },
     "execution_count": 96,
     "metadata": {},
     "output_type": "execute_result"
    }
   ],
   "source": [
    "scaler.inverse_transform([[0.7458584, 0.68279654]])"
   ]
  },
  {
   "cell_type": "markdown",
   "id": "b0e6556f",
   "metadata": {},
   "source": [
    "# Combining everything into a single block"
   ]
  },
  {
   "cell_type": "code",
   "execution_count": 97,
   "id": "b96f5ade",
   "metadata": {},
   "outputs": [
    {
     "name": "stdout",
     "output_type": "stream",
     "text": [
      "1/1 [==============================] - 0s 47ms/step\n",
      "Prediction for day 1: 132.06706\n",
      "1/1 [==============================] - 0s 47ms/step\n",
      "Prediction for day 2: 128.86502\n",
      "1/1 [==============================] - 0s 39ms/step\n",
      "Prediction for day 3: 125.18837\n",
      "1/1 [==============================] - 0s 49ms/step\n",
      "Prediction for day 4: 121.768974\n",
      "1/1 [==============================] - 0s 56ms/step\n",
      "Prediction for day 5: 118.723\n",
      "1/1 [==============================] - 0s 64ms/step\n",
      "Prediction for day 6: 116.01129\n",
      "1/1 [==============================] - 0s 56ms/step\n",
      "Prediction for day 7: 113.5584\n",
      "1/1 [==============================] - 0s 58ms/step\n",
      "Prediction for day 8: 111.2908\n",
      "1/1 [==============================] - 0s 57ms/step\n",
      "Prediction for day 9: 109.148895\n",
      "1/1 [==============================] - 0s 64ms/step\n",
      "Prediction for day 10: 107.08914\n"
     ]
    }
   ],
   "source": [
    "x_input = test_data[len(test_data)-window_size:, 0].reshape((1, window_size))\n",
    "x_input_list = list(x_input[0])\n",
    "days = 10\n",
    "\n",
    "for i in range(days):\n",
    "  x_input = np.array(x_input_list)\n",
    "  prediction =  model.predict(x_input.reshape(1, window_size, 1))\n",
    "  print(f'Prediction for day {i+1}:', scaler.inverse_transform(prediction)[0][0])\n",
    "  x_input_list.append(prediction[0][0])\n",
    "  x_input_list.remove(x_input_list[0])"
   ]
  },
  {
   "cell_type": "code",
   "execution_count": 98,
   "id": "309f140f",
   "metadata": {},
   "outputs": [
    {
     "data": {
      "text/plain": [
       "[0.8694533283748606,\n",
       " 0.88534027519524,\n",
       " 0.8978951283004835,\n",
       " 0.8995016734845668,\n",
       " 0.8880773521755299,\n",
       " 0.9080699144663444,\n",
       " 0.9061063592413536,\n",
       " 0.8878988471550762,\n",
       " 0.864871699516549,\n",
       " 0.8538043882484195,\n",
       " 0.8865898103384157,\n",
       " 0.8602305689847528,\n",
       " 0.8376794347341019,\n",
       " 0.813224246931945,\n",
       " 0.8398214949795463,\n",
       " 0.8665972480476014,\n",
       " 0.8727259204165118,\n",
       " 0.8927184827073261,\n",
       " 0.9010487169951654,\n",
       " 0.9215172926738565,\n",
       " 0.9297880252882113,\n",
       " 0.952755671253254,\n",
       " 0.9566232800297508,\n",
       " 0.9618594272963926,\n",
       " 0.9818519895872072,\n",
       " 0.9747712904425437,\n",
       " 0.9559687616214206,\n",
       " 0.9541837114168835,\n",
       " 0.9787579025660097,\n",
       " 0.9586463369282262,\n",
       " 0.9394272963927112,\n",
       " 0.9412718482707326,\n",
       " 0.9290740052063965,\n",
       " 0.9032502789140945,\n",
       " 0.9146150985496467,\n",
       " 0.930918557084418,\n",
       " 0.9005132019338044,\n",
       " 0.8992041651171438,\n",
       " 0.913068055039048,\n",
       " 0.9120565265898103,\n",
       " 0.9072368910375603,\n",
       " 0.879687616214206,\n",
       " 0.8861732986240238,\n",
       " 0.8499962811454073,\n",
       " 0.8486277426552622,\n",
       " 0.8906954258088507,\n",
       " 0.8550539233915955,\n",
       " 0.856898475269617,\n",
       " 0.8659427296392711,\n",
       " 0.9048568240981778,\n",
       " 0.8498177761249536,\n",
       " 0.8528523614726664,\n",
       " 0.8217924879137226,\n",
       " 0.8363703979174414,\n",
       " 0.7887095574563034,\n",
       " 0.7652658981033842,\n",
       " 0.7923391595388621,\n",
       " 0.782997396801785,\n",
       " 0.8050130159910748,\n",
       " 0.7549126069170695,\n",
       " 0.7342655262179248,\n",
       " 0.7356935663815545,\n",
       " 0.7685384901450354,\n",
       " 0.7521755299367796,\n",
       " 0.7531275567125326,\n",
       " 0.7725251022685014,\n",
       " 0.8073930829304573,\n",
       " 0.8026329490516921,\n",
       " 0.8018594272963928,\n",
       " 0.8167348456675345,\n",
       " 0.7820453700260319,\n",
       " 0.786567497210859,\n",
       " 0.8018594272963928,\n",
       " 0.7973968017850502,\n",
       " 0.7657419114912606,\n",
       " 0.7329564894012645,\n",
       " 0.7017181108218669,\n",
       " 0.7069542580885086,\n",
       " 0.7228412049088881,\n",
       " 0.6908888062476758,\n",
       " 0.6998140572703607,\n",
       " 0.725459278542209,\n",
       " 0.7223651915210115,\n",
       " 0.7397396801785051,\n",
       " 0.7599107474897732,\n",
       " 0.7599107474897732,\n",
       " 0.734801041279286,\n",
       " 0.7454518408330234,\n",
       " 0.7305169207883971,\n",
       " 0.7436667906284865,\n",
       " 0.7028312,\n",
       " 0.68377846,\n",
       " 0.66190183,\n",
       " 0.64155585,\n",
       " 0.6234318,\n",
       " 0.60729665,\n",
       " 0.59270155,\n",
       " 0.57920897,\n",
       " 0.56646425,\n",
       " 0.5542084]"
      ]
     },
     "execution_count": 98,
     "metadata": {},
     "output_type": "execute_result"
    }
   ],
   "source": [
    "x_input_list"
   ]
  },
  {
   "cell_type": "code",
   "execution_count": 99,
   "id": "d030e5be",
   "metadata": {},
   "outputs": [
    {
     "data": {
      "text/plain": [
       "[<matplotlib.lines.Line2D at 0x1941415f610>]"
      ]
     },
     "execution_count": 99,
     "metadata": {},
     "output_type": "execute_result"
    },
    {
     "data": {
      "image/png": "[encoded data removed]",
      "text/plain": [
       "<Figure size 432x288 with 1 Axes>"
      ]
     },
     "metadata": {
      "needs_background": "light"
     },
     "output_type": "display_data"
    }
   ],
   "source": [
    "plt.plot(np.arange(0,window_size), scaler.inverse_transform(test_data[len(test_data)-window_size:]))\n",
    "plt.plot(np.arange(window_size,window_size + 10), scaler.inverse_transform(np.array(x_input_list[-10:]).reshape(-1,1)))"
   ]
  }
 ],
 "metadata": {
  "kernelspec": {
   "display_name": "Python 3",
   "language": "python",
   "name": "python3"
  },
  "language_info": {
   "codemirror_mode": {
    "name": "ipython",
    "version": 3
   },
   "file_extension": ".py",
   "mimetype": "text/x-python",
   "name": "python",
   "nbconvert_exporter": "python",
   "pygments_lexer": "ipython3",
   "version": "3.8.8"
  }
 },
 "nbformat": 4,
 "nbformat_minor": 5
}
